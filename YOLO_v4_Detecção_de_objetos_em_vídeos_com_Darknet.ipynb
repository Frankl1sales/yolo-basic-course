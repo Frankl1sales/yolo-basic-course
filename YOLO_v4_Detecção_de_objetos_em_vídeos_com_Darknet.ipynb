{
  "nbformat": 4,
  "nbformat_minor": 0,
  "metadata": {
    "colab": {
      "provenance": [],
      "include_colab_link": true
    },
    "kernelspec": {
      "name": "python3",
      "display_name": "Python 3"
    },
    "accelerator": "GPU"
  },
  "cells": [
    {
      "cell_type": "markdown",
      "metadata": {
        "id": "view-in-github",
        "colab_type": "text"
      },
      "source": [
        "<a href=\"https://colab.research.google.com/github/Frankl1sales/yolo-basic-course/blob/main/YOLO_v4_Detec%C3%A7%C3%A3o_de_objetos_em_v%C3%ADdeos_com_Darknet.ipynb\" target=\"_parent\"><img src=\"https://colab.research.google.com/assets/colab-badge.svg\" alt=\"Open In Colab\"/></a>"
      ]
    },
    {
      "cell_type": "markdown",
      "metadata": {
        "id": "HJlxFBhB-ueB"
      },
      "source": [
        "# Detectando objetos em videos com YOLOv4"
      ]
    },
    {
      "cell_type": "markdown",
      "metadata": {
        "id": "1Y9JPs-w7Ohe"
      },
      "source": [
        "## Etapa 1 - Download do Darknet"
      ]
    },
    {
      "cell_type": "code",
      "metadata": {
        "id": "Ph5afD0r6CCK"
      },
      "source": [
        "!git clone https://github.com/AlexeyAB/darknet"
      ],
      "execution_count": null,
      "outputs": []
    },
    {
      "cell_type": "code",
      "metadata": {
        "id": "iV_JkQPl7IcO"
      },
      "source": [
        "%cd darknet"
      ],
      "execution_count": null,
      "outputs": []
    },
    {
      "cell_type": "code",
      "metadata": {
        "id": "Jv13sh267KB-"
      },
      "source": [
        "ls"
      ],
      "execution_count": null,
      "outputs": []
    },
    {
      "cell_type": "markdown",
      "metadata": {
        "id": "JoM7tA-t7X14"
      },
      "source": [
        "## Etapa 2 - Compilando a biblioteca"
      ]
    },
    {
      "cell_type": "code",
      "metadata": {
        "id": "cQBgQsYG7Stg"
      },
      "source": [
        "!sed -i 's/OPENCV=0/OPENCV=1/' Makefile\n",
        "!sed -i 's/GPU=0/GPU=1/' Makefile\n",
        "!sed -i 's/CUDNN=0/CUDNN=1/' Makefile"
      ],
      "execution_count": null,
      "outputs": []
    },
    {
      "cell_type": "code",
      "metadata": {
        "id": "9SVY78Iy6TpR"
      },
      "source": [
        "import tensorflow as tf\n",
        "device_name = tf.test.gpu_device_name()\n",
        "print(device_name)"
      ],
      "execution_count": null,
      "outputs": []
    },
    {
      "cell_type": "code",
      "metadata": {
        "id": "ccQBOhDz7Vb9"
      },
      "source": [
        "!make"
      ],
      "execution_count": null,
      "outputs": []
    },
    {
      "cell_type": "markdown",
      "metadata": {
        "id": "jmP-dVBo7b-O"
      },
      "source": [
        "## Etapa 3 - Carregando os pesos do modelo pré-treinado"
      ]
    },
    {
      "cell_type": "code",
      "metadata": {
        "id": "2uAfJg2KfNgJ"
      },
      "source": [
        "from google.colab import drive\n",
        "drive.mount('/content/gdrive')"
      ],
      "execution_count": null,
      "outputs": []
    },
    {
      "cell_type": "code",
      "metadata": {
        "id": "Yg-zzxrzqsJW"
      },
      "source": [
        "#!wget https://github.com/AlexeyAB/darknet/releases/download/darknet_yolo_v3_optimal/yolov4.weights"
      ],
      "execution_count": null,
      "outputs": []
    },
    {
      "cell_type": "code",
      "metadata": {
        "id": "nVxRo0GlUO1B"
      },
      "source": [
        "import zipfile\n",
        "path = \"/content/gdrive/MyDrive/home/2. PESQUISAS/4. Org. Cursos/Udemy/YOLO/modelo_YOLOv4.zip\"\n",
        "zip_object = zipfile.ZipFile(file=path, mode=\"r\")\n",
        "zip_object.extractall(\"./\")\n",
        "zip_object.close()"
      ],
      "execution_count": null,
      "outputs": []
    },
    {
      "cell_type": "markdown",
      "metadata": {
        "id": "VgRfy3HVDy2U"
      },
      "source": [
        "## Etapa 4 - Carregando o vídeo"
      ]
    },
    {
      "cell_type": "markdown",
      "metadata": {
        "id": "zMMvjR7qg0s4"
      },
      "source": [
        "### 4.1 - De uma url"
      ]
    },
    {
      "cell_type": "code",
      "metadata": {
        "id": "Sukkx62w7tzl"
      },
      "source": [
        "!wget https://github.com/gabevr/yolo/raw/master/videos/video_teste02.mp4"
      ],
      "execution_count": null,
      "outputs": []
    },
    {
      "cell_type": "markdown",
      "metadata": {
        "id": "gFx-1PfvE4sK"
      },
      "source": [
        "### 4.2 - Do Google Drive\n"
      ]
    },
    {
      "cell_type": "code",
      "metadata": {
        "id": "Oq6XR5mFr6rt"
      },
      "source": [
        "!cp /content/gdrive/MyDrive/home/2.\\ PESQUISAS/4.\\ Org.\\ Cursos/Udemy/YOLO/videos/video_teste02.mp4 ./"
      ],
      "execution_count": null,
      "outputs": []
    },
    {
      "cell_type": "code",
      "metadata": {
        "id": "jAQfpgrY_MV8"
      },
      "source": [
        "ls"
      ],
      "execution_count": null,
      "outputs": []
    },
    {
      "cell_type": "markdown",
      "metadata": {
        "id": "bQx3vG01iDle"
      },
      "source": [
        "## Etapa 5 - Realizando a detecção em vídeo"
      ]
    },
    {
      "cell_type": "code",
      "metadata": {
        "id": "X4_7qRAaH9VY"
      },
      "source": [
        "!./darknet detector demo cfg/coco.data cfg/yolov4.cfg yolov4.weights -dont_show video_teste02.mp4 -i 0 -out_filename resultado.avi"
      ],
      "execution_count": null,
      "outputs": []
    },
    {
      "cell_type": "code",
      "metadata": {
        "id": "Qf5XKwz-JRWt"
      },
      "source": [
        "!du -h resultado.avi"
      ],
      "execution_count": null,
      "outputs": []
    },
    {
      "cell_type": "markdown",
      "metadata": {
        "id": "rexJAnVLjDIy"
      },
      "source": [
        "## Etapa 6 - Visualizando o resultado"
      ]
    },
    {
      "cell_type": "code",
      "metadata": {
        "id": "0xlAxBzeJYX4"
      },
      "source": [
        "!cp ./resultado.avi /content/gdrive/MyDrive/home/2.\\ PESQUISAS/4.\\ Org.\\ Cursos/Udemy/YOLO/videos/resultado1.avi"
      ],
      "execution_count": null,
      "outputs": []
    },
    {
      "cell_type": "markdown",
      "metadata": {
        "id": "6B6MDEwGRPaF"
      },
      "source": [
        "## Especificando um threshold"
      ]
    },
    {
      "cell_type": "code",
      "metadata": {
        "id": "iGbFp91hL2SG"
      },
      "source": [
        "!wget https://github.com/gabevr/yolo/raw/master/videos/video_rua01.mp4"
      ],
      "execution_count": null,
      "outputs": []
    },
    {
      "cell_type": "code",
      "metadata": {
        "id": "BO2DA0FTL4tY"
      },
      "source": [
        "!cp /content/gdrive/My\\ Drive/Cursos\\ -\\ recursos/YOLO/videos/video_rua01.mp4 ./"
      ],
      "execution_count": null,
      "outputs": []
    },
    {
      "cell_type": "code",
      "metadata": {
        "id": "OSQeTgtMMPh3"
      },
      "source": [
        "!./darknet detector demo cfg/coco.data cfg/yolov4.cfg yolov4.weights -dont_show video_rua01.mp4 -out_filename resultado02.avi -thresh 0.3"
      ],
      "execution_count": null,
      "outputs": []
    },
    {
      "cell_type": "code",
      "metadata": {
        "id": "GnO-ny02MzFc"
      },
      "source": [
        "!cp ./resultado02.avi /content/gdrive/My\\ Drive/Cursos\\ -\\ recursos/YOLO/videos/resultado2.avi"
      ],
      "execution_count": null,
      "outputs": []
    }
  ]
}